{
 "cells": [
  {
   "cell_type": "markdown",
   "metadata": {},
   "source": [
    "**Datos de Facturación**\n",
    "***Doménica vela***\n",
    "***Rigoberto Gabriel***\n",
    "***Patricio Mijares***"
   ]
  },
  {
   "cell_type": "code",
   "execution_count": 1,
   "metadata": {},
   "outputs": [],
   "source": [
    "#Importamos librerías requeridas\n",
    "import pandas as pd\n",
    "import numpy as np\n",
    "import matplotlib.pyplot as plt\n",
    "import seaborn as sns"
   ]
  },
  {
   "cell_type": "code",
   "execution_count": 2,
   "metadata": {},
   "outputs": [
    {
     "data": {
      "text/html": [
       "<div>\n",
       "<style scoped>\n",
       "    .dataframe tbody tr th:only-of-type {\n",
       "        vertical-align: middle;\n",
       "    }\n",
       "\n",
       "    .dataframe tbody tr th {\n",
       "        vertical-align: top;\n",
       "    }\n",
       "\n",
       "    .dataframe thead th {\n",
       "        text-align: right;\n",
       "    }\n",
       "</style>\n",
       "<table border=\"1\" class=\"dataframe\">\n",
       "  <thead>\n",
       "    <tr style=\"text-align: right;\">\n",
       "      <th></th>\n",
       "      <th>CVE_DOC</th>\n",
       "      <th>CVE_CLPV</th>\n",
       "      <th>STATUS</th>\n",
       "      <th>CVE_VEND</th>\n",
       "      <th>FECHAELAB</th>\n",
       "      <th>FECHA_DOC</th>\n",
       "      <th>FECHA_ENT</th>\n",
       "      <th>FECHA_VEN</th>\n",
       "      <th>FECHA_CANCELA</th>\n",
       "      <th>CAN_TOT</th>\n",
       "      <th>DES_TOT</th>\n",
       "      <th>DES_FIN</th>\n",
       "    </tr>\n",
       "  </thead>\n",
       "  <tbody>\n",
       "    <tr>\n",
       "      <th>0</th>\n",
       "      <td>F29414</td>\n",
       "      <td>2465</td>\n",
       "      <td>C</td>\n",
       "      <td>1.0</td>\n",
       "      <td>2019-09-03 08:58:42.000</td>\n",
       "      <td>2019-09-03</td>\n",
       "      <td>2019-09-03 00:00:00</td>\n",
       "      <td>2019-09-18</td>\n",
       "      <td>2019-09-04</td>\n",
       "      <td>3980.00</td>\n",
       "      <td>0.0</td>\n",
       "      <td>0.0</td>\n",
       "    </tr>\n",
       "    <tr>\n",
       "      <th>1</th>\n",
       "      <td>F29415</td>\n",
       "      <td>3926</td>\n",
       "      <td>C</td>\n",
       "      <td>1.0</td>\n",
       "      <td>2019-09-03 09:55:14.000</td>\n",
       "      <td>2019-09-03</td>\n",
       "      <td>2019-09-03 00:00:00</td>\n",
       "      <td>2019-10-03</td>\n",
       "      <td>2019-09-03</td>\n",
       "      <td>1550.00</td>\n",
       "      <td>0.0</td>\n",
       "      <td>0.0</td>\n",
       "    </tr>\n",
       "    <tr>\n",
       "      <th>2</th>\n",
       "      <td>F29416</td>\n",
       "      <td>3926</td>\n",
       "      <td>C</td>\n",
       "      <td>1.0</td>\n",
       "      <td>2019-09-03 13:25:33.000</td>\n",
       "      <td>2019-09-03</td>\n",
       "      <td>2019-09-03 00:00:00</td>\n",
       "      <td>2019-10-03</td>\n",
       "      <td>2019-09-03</td>\n",
       "      <td>1550.00</td>\n",
       "      <td>0.0</td>\n",
       "      <td>0.0</td>\n",
       "    </tr>\n",
       "    <tr>\n",
       "      <th>3</th>\n",
       "      <td>F29417</td>\n",
       "      <td>3926</td>\n",
       "      <td>C</td>\n",
       "      <td>1.0</td>\n",
       "      <td>2019-09-03 13:33:23.000</td>\n",
       "      <td>2019-09-03</td>\n",
       "      <td>2019-09-03 00:00:00</td>\n",
       "      <td>2019-10-03</td>\n",
       "      <td>2019-09-17</td>\n",
       "      <td>1550.00</td>\n",
       "      <td>0.0</td>\n",
       "      <td>0.0</td>\n",
       "    </tr>\n",
       "    <tr>\n",
       "      <th>4</th>\n",
       "      <td>F29418</td>\n",
       "      <td>6813</td>\n",
       "      <td>C</td>\n",
       "      <td>2.0</td>\n",
       "      <td>2019-09-03 14:23:45.000</td>\n",
       "      <td>2019-09-03</td>\n",
       "      <td>2019-09-03 00:00:00</td>\n",
       "      <td>2019-09-03</td>\n",
       "      <td>2019-09-10</td>\n",
       "      <td>2435.44</td>\n",
       "      <td>0.0</td>\n",
       "      <td>0.0</td>\n",
       "    </tr>\n",
       "    <tr>\n",
       "      <th>...</th>\n",
       "      <td>...</td>\n",
       "      <td>...</td>\n",
       "      <td>...</td>\n",
       "      <td>...</td>\n",
       "      <td>...</td>\n",
       "      <td>...</td>\n",
       "      <td>...</td>\n",
       "      <td>...</td>\n",
       "      <td>...</td>\n",
       "      <td>...</td>\n",
       "      <td>...</td>\n",
       "      <td>...</td>\n",
       "    </tr>\n",
       "    <tr>\n",
       "      <th>10890</th>\n",
       "      <td>F40306</td>\n",
       "      <td>8842</td>\n",
       "      <td>E</td>\n",
       "      <td>2.0</td>\n",
       "      <td>2023-03-06 16:09:39.013</td>\n",
       "      <td>2023-03-06</td>\n",
       "      <td>2023-03-01 00:00:00</td>\n",
       "      <td>2023-03-06</td>\n",
       "      <td>NaT</td>\n",
       "      <td>3272.00</td>\n",
       "      <td>0.0</td>\n",
       "      <td>0.0</td>\n",
       "    </tr>\n",
       "    <tr>\n",
       "      <th>10891</th>\n",
       "      <td>F40307</td>\n",
       "      <td>6218</td>\n",
       "      <td>NaN</td>\n",
       "      <td>2.0</td>\n",
       "      <td>2023-03-06 16:38:42.933</td>\n",
       "      <td>2023-03-06</td>\n",
       "      <td>2023-03-06 00:00:00</td>\n",
       "      <td>2023-03-06</td>\n",
       "      <td>NaT</td>\n",
       "      <td>504.15</td>\n",
       "      <td>0.0</td>\n",
       "      <td>0.0</td>\n",
       "    </tr>\n",
       "    <tr>\n",
       "      <th>10892</th>\n",
       "      <td>NaN</td>\n",
       "      <td>5926</td>\n",
       "      <td>E</td>\n",
       "      <td>2.0</td>\n",
       "      <td>2023-03-06 17:02:33.390</td>\n",
       "      <td>2023-03-06</td>\n",
       "      <td>2023-03-06 00:00:00</td>\n",
       "      <td>2023-03-06</td>\n",
       "      <td>NaT</td>\n",
       "      <td>275.68</td>\n",
       "      <td>0.0</td>\n",
       "      <td>0.0</td>\n",
       "    </tr>\n",
       "    <tr>\n",
       "      <th>10893</th>\n",
       "      <td>F40309</td>\n",
       "      <td>361</td>\n",
       "      <td>E</td>\n",
       "      <td>2.0</td>\n",
       "      <td>2023-03-07 12:43:49.567</td>\n",
       "      <td>2023-03-07</td>\n",
       "      <td>2023-03-07 00:00:00</td>\n",
       "      <td>2023-03-07</td>\n",
       "      <td>NaT</td>\n",
       "      <td>129.30</td>\n",
       "      <td>0.0</td>\n",
       "      <td>0.0</td>\n",
       "    </tr>\n",
       "    <tr>\n",
       "      <th>10894</th>\n",
       "      <td>F40310</td>\n",
       "      <td>3011</td>\n",
       "      <td>E</td>\n",
       "      <td>2.0</td>\n",
       "      <td>2023-03-07 12:45:58.407</td>\n",
       "      <td>2023-03-07</td>\n",
       "      <td>2023-03-01 00:00:00</td>\n",
       "      <td>2023-03-07</td>\n",
       "      <td>NaT</td>\n",
       "      <td>517.20</td>\n",
       "      <td>0.0</td>\n",
       "      <td>0.0</td>\n",
       "    </tr>\n",
       "  </tbody>\n",
       "</table>\n",
       "<p>10895 rows × 12 columns</p>\n",
       "</div>"
      ],
      "text/plain": [
       "      CVE_DOC    CVE_CLPV STATUS  CVE_VEND               FECHAELAB  FECHA_DOC  \\\n",
       "0      F29414        2465      C       1.0 2019-09-03 08:58:42.000 2019-09-03   \n",
       "1      F29415        3926      C       1.0 2019-09-03 09:55:14.000 2019-09-03   \n",
       "2      F29416        3926      C       1.0 2019-09-03 13:25:33.000 2019-09-03   \n",
       "3      F29417        3926      C       1.0 2019-09-03 13:33:23.000 2019-09-03   \n",
       "4      F29418        6813      C       2.0 2019-09-03 14:23:45.000 2019-09-03   \n",
       "...       ...         ...    ...       ...                     ...        ...   \n",
       "10890  F40306        8842      E       2.0 2023-03-06 16:09:39.013 2023-03-06   \n",
       "10891  F40307        6218    NaN       2.0 2023-03-06 16:38:42.933 2023-03-06   \n",
       "10892     NaN        5926      E       2.0 2023-03-06 17:02:33.390 2023-03-06   \n",
       "10893  F40309         361      E       2.0 2023-03-07 12:43:49.567 2023-03-07   \n",
       "10894  F40310        3011      E       2.0 2023-03-07 12:45:58.407 2023-03-07   \n",
       "\n",
       "                 FECHA_ENT  FECHA_VEN FECHA_CANCELA  CAN_TOT  DES_TOT  DES_FIN  \n",
       "0      2019-09-03 00:00:00 2019-09-18    2019-09-04  3980.00      0.0      0.0  \n",
       "1      2019-09-03 00:00:00 2019-10-03    2019-09-03  1550.00      0.0      0.0  \n",
       "2      2019-09-03 00:00:00 2019-10-03    2019-09-03  1550.00      0.0      0.0  \n",
       "3      2019-09-03 00:00:00 2019-10-03    2019-09-17  1550.00      0.0      0.0  \n",
       "4      2019-09-03 00:00:00 2019-09-03    2019-09-10  2435.44      0.0      0.0  \n",
       "...                    ...        ...           ...      ...      ...      ...  \n",
       "10890  2023-03-01 00:00:00 2023-03-06           NaT  3272.00      0.0      0.0  \n",
       "10891  2023-03-06 00:00:00 2023-03-06           NaT   504.15      0.0      0.0  \n",
       "10892  2023-03-06 00:00:00 2023-03-06           NaT   275.68      0.0      0.0  \n",
       "10893  2023-03-07 00:00:00 2023-03-07           NaT   129.30      0.0      0.0  \n",
       "10894  2023-03-01 00:00:00 2023-03-07           NaT   517.20      0.0      0.0  \n",
       "\n",
       "[10895 rows x 12 columns]"
      ]
     },
     "execution_count": 2,
     "metadata": {},
     "output_type": "execute_result"
    }
   ],
   "source": [
    "#Carga desde un archivo .xlsx sin indice\n",
    "df= pd.read_excel('Datos de Facturación.xlsx')\n",
    "df"
   ]
  },
  {
   "cell_type": "code",
   "execution_count": 3,
   "metadata": {},
   "outputs": [
    {
     "data": {
      "text/html": [
       "<div>\n",
       "<style scoped>\n",
       "    .dataframe tbody tr th:only-of-type {\n",
       "        vertical-align: middle;\n",
       "    }\n",
       "\n",
       "    .dataframe tbody tr th {\n",
       "        vertical-align: top;\n",
       "    }\n",
       "\n",
       "    .dataframe thead th {\n",
       "        text-align: right;\n",
       "    }\n",
       "</style>\n",
       "<table border=\"1\" class=\"dataframe\">\n",
       "  <thead>\n",
       "    <tr style=\"text-align: right;\">\n",
       "      <th></th>\n",
       "      <th>CVE_DOC</th>\n",
       "      <th>CVE_CLPV</th>\n",
       "      <th>STATUS</th>\n",
       "      <th>CVE_VEND</th>\n",
       "      <th>FECHAELAB</th>\n",
       "      <th>FECHA_DOC</th>\n",
       "      <th>FECHA_ENT</th>\n",
       "      <th>FECHA_VEN</th>\n",
       "      <th>FECHA_CANCELA</th>\n",
       "      <th>CAN_TOT</th>\n",
       "      <th>DES_TOT</th>\n",
       "      <th>DES_FIN</th>\n",
       "    </tr>\n",
       "  </thead>\n",
       "  <tbody>\n",
       "    <tr>\n",
       "      <th>0</th>\n",
       "      <td>F29414</td>\n",
       "      <td>2465</td>\n",
       "      <td>C</td>\n",
       "      <td>1.0</td>\n",
       "      <td>2019-09-03 08:58:42</td>\n",
       "      <td>2019-09-03</td>\n",
       "      <td>2019-09-03 00:00:00</td>\n",
       "      <td>2019-09-18</td>\n",
       "      <td>2019-09-04</td>\n",
       "      <td>3980.00</td>\n",
       "      <td>0.0</td>\n",
       "      <td>0.0</td>\n",
       "    </tr>\n",
       "    <tr>\n",
       "      <th>1</th>\n",
       "      <td>F29415</td>\n",
       "      <td>3926</td>\n",
       "      <td>C</td>\n",
       "      <td>1.0</td>\n",
       "      <td>2019-09-03 09:55:14</td>\n",
       "      <td>2019-09-03</td>\n",
       "      <td>2019-09-03 00:00:00</td>\n",
       "      <td>2019-10-03</td>\n",
       "      <td>2019-09-03</td>\n",
       "      <td>1550.00</td>\n",
       "      <td>0.0</td>\n",
       "      <td>0.0</td>\n",
       "    </tr>\n",
       "    <tr>\n",
       "      <th>2</th>\n",
       "      <td>F29416</td>\n",
       "      <td>3926</td>\n",
       "      <td>C</td>\n",
       "      <td>1.0</td>\n",
       "      <td>2019-09-03 13:25:33</td>\n",
       "      <td>2019-09-03</td>\n",
       "      <td>2019-09-03 00:00:00</td>\n",
       "      <td>2019-10-03</td>\n",
       "      <td>2019-09-03</td>\n",
       "      <td>1550.00</td>\n",
       "      <td>0.0</td>\n",
       "      <td>0.0</td>\n",
       "    </tr>\n",
       "    <tr>\n",
       "      <th>3</th>\n",
       "      <td>F29417</td>\n",
       "      <td>3926</td>\n",
       "      <td>C</td>\n",
       "      <td>1.0</td>\n",
       "      <td>2019-09-03 13:33:23</td>\n",
       "      <td>2019-09-03</td>\n",
       "      <td>2019-09-03 00:00:00</td>\n",
       "      <td>2019-10-03</td>\n",
       "      <td>2019-09-17</td>\n",
       "      <td>1550.00</td>\n",
       "      <td>0.0</td>\n",
       "      <td>0.0</td>\n",
       "    </tr>\n",
       "    <tr>\n",
       "      <th>4</th>\n",
       "      <td>F29418</td>\n",
       "      <td>6813</td>\n",
       "      <td>C</td>\n",
       "      <td>2.0</td>\n",
       "      <td>2019-09-03 14:23:45</td>\n",
       "      <td>2019-09-03</td>\n",
       "      <td>2019-09-03 00:00:00</td>\n",
       "      <td>2019-09-03</td>\n",
       "      <td>2019-09-10</td>\n",
       "      <td>2435.44</td>\n",
       "      <td>0.0</td>\n",
       "      <td>0.0</td>\n",
       "    </tr>\n",
       "  </tbody>\n",
       "</table>\n",
       "</div>"
      ],
      "text/plain": [
       "  CVE_DOC    CVE_CLPV STATUS  CVE_VEND           FECHAELAB  FECHA_DOC  \\\n",
       "0  F29414        2465      C       1.0 2019-09-03 08:58:42 2019-09-03   \n",
       "1  F29415        3926      C       1.0 2019-09-03 09:55:14 2019-09-03   \n",
       "2  F29416        3926      C       1.0 2019-09-03 13:25:33 2019-09-03   \n",
       "3  F29417        3926      C       1.0 2019-09-03 13:33:23 2019-09-03   \n",
       "4  F29418        6813      C       2.0 2019-09-03 14:23:45 2019-09-03   \n",
       "\n",
       "             FECHA_ENT  FECHA_VEN FECHA_CANCELA  CAN_TOT  DES_TOT  DES_FIN  \n",
       "0  2019-09-03 00:00:00 2019-09-18    2019-09-04  3980.00      0.0      0.0  \n",
       "1  2019-09-03 00:00:00 2019-10-03    2019-09-03  1550.00      0.0      0.0  \n",
       "2  2019-09-03 00:00:00 2019-10-03    2019-09-03  1550.00      0.0      0.0  \n",
       "3  2019-09-03 00:00:00 2019-10-03    2019-09-17  1550.00      0.0      0.0  \n",
       "4  2019-09-03 00:00:00 2019-09-03    2019-09-10  2435.44      0.0      0.0  "
      ]
     },
     "execution_count": 3,
     "metadata": {},
     "output_type": "execute_result"
    }
   ],
   "source": [
    "data= pd.read_excel('Datos de Facturación.xlsx')\n",
    "data.head(5)"
   ]
  },
  {
   "cell_type": "code",
   "execution_count": 4,
   "metadata": {},
   "outputs": [
    {
     "data": {
      "text/plain": [
       "CVE_DOC              5\n",
       "CVE_CLPV             0\n",
       "STATUS               9\n",
       "CVE_VEND            48\n",
       "FECHAELAB            2\n",
       "FECHA_DOC            1\n",
       "FECHA_ENT            2\n",
       "FECHA_VEN            0\n",
       "FECHA_CANCELA    10537\n",
       "CAN_TOT              6\n",
       "DES_TOT              1\n",
       "DES_FIN              3\n",
       "dtype: int64"
      ]
     },
     "execution_count": 4,
     "metadata": {},
     "output_type": "execute_result"
    }
   ],
   "source": [
    "#Identificar valores nulos por columna\n",
    "valores_nulos=data.isnull().sum()\n",
    "valores_nulos"
   ]
  },
  {
   "cell_type": "markdown",
   "metadata": {},
   "source": [
    "***Métodos de Sustitución de Valores Nulos***"
   ]
  },
  {
   "cell_type": "code",
   "execution_count": 5,
   "metadata": {},
   "outputs": [],
   "source": [
    "##Realizamos una copia del dataframe\n",
    "data2=data.copy()"
   ]
  },
  {
   "cell_type": "code",
   "execution_count": 6,
   "metadata": {},
   "outputs": [],
   "source": [
    "# Sustituir valores nulos en 'CAN_TOT' con la media de la columna\n",
    "data['CAN_TOT'] = data['CAN_TOT'].fillna(data['CAN_TOT'].mean())\n",
    "\n",
    "# Sustituir valores nulos en 'DES_TOT' con la media de la columna\n",
    "data['DES_TOT'] = data['DES_TOT'].fillna(data['DES_TOT'].mean())\n",
    "\n",
    "# Sustituir valores nulos en 'DES_FIN' con la media de la columna\n",
    "data['DES_FIN'] = data['DES_FIN'].fillna(data['DES_FIN'].mean())"
   ]
  },
  {
   "cell_type": "code",
   "execution_count": 7,
   "metadata": {},
   "outputs": [
    {
     "name": "stdout",
     "output_type": "stream",
     "text": [
      "CVE_DOC              5\n",
      "CVE_CLPV             0\n",
      "STATUS               9\n",
      "CVE_VEND            48\n",
      "FECHAELAB            2\n",
      "FECHA_DOC            1\n",
      "FECHA_ENT            2\n",
      "FECHA_VEN            0\n",
      "FECHA_CANCELA    10537\n",
      "CAN_TOT              0\n",
      "DES_TOT              0\n",
      "DES_FIN              0\n",
      "dtype: int64\n"
     ]
    }
   ],
   "source": [
    "# Verificar que los valores nulos han sido reemplazados\n",
    "valores_nulos = data.isnull().sum()\n",
    "print(valores_nulos)"
   ]
  },
  {
   "cell_type": "code",
   "execution_count": 8,
   "metadata": {},
   "outputs": [],
   "source": [
    "# Segundo método de sustitución de valores nulos\n",
    "# Sustituir valores nulos con mediana\n",
    "\n",
    "# Sustituir valores nulos en 'CAN_TOT' con la mediana de la columna\n",
    "data['CAN_TOT'] = data['CAN_TOT'].fillna(data['CAN_TOT'].median())\n",
    "\n",
    "# Sustituir valores nulos en 'DES_TOT' con la mediana de la columna\n",
    "data['DES_TOT'] = data['DES_TOT'].fillna(data['DES_TOT'].median())\n",
    "\n",
    "# Sustituir valores nulos en 'DES_FIN' con la mediana de la columna\n",
    "data['DES_FIN'] = data['DES_FIN'].fillna(data['DES_FIN'].median())\n"
   ]
  },
  {
   "cell_type": "code",
   "execution_count": 9,
   "metadata": {},
   "outputs": [
    {
     "name": "stdout",
     "output_type": "stream",
     "text": [
      "CVE_DOC              5\n",
      "CVE_CLPV             0\n",
      "STATUS               9\n",
      "CVE_VEND            48\n",
      "FECHAELAB            2\n",
      "FECHA_DOC            1\n",
      "FECHA_ENT            2\n",
      "FECHA_VEN            0\n",
      "FECHA_CANCELA    10537\n",
      "CAN_TOT              0\n",
      "DES_TOT              0\n",
      "DES_FIN              0\n",
      "dtype: int64\n"
     ]
    }
   ],
   "source": [
    "# Verificar la eliminación de valores nulos\n",
    "valores_nulos = data.isnull().sum()\n",
    "print(valores_nulos)"
   ]
  },
  {
   "cell_type": "code",
   "execution_count": 10,
   "metadata": {},
   "outputs": [],
   "source": [
    "# Tercer método de sustitución de valores nulos\n",
    "# Sustituir valores nulos por un valor numérico en concreto\n",
    "\n",
    "# Sustituir valores nulos en 'CAN_TOT' con el valor numérico 0\n",
    "data['CAN_TOT'] = data['CAN_TOT'].fillna(0)\n",
    "\n",
    "# Sustituir valores nulos en 'DES_TOT' con el valor numérico 0\n",
    "data['DES_TOT'] = data['DES_TOT'].fillna(0)\n",
    "\n",
    "# Sustituir valores nulos en 'DES_FIN' con el valor numérico 0\n",
    "data['DES_FIN'] = data['DES_FIN'].fillna(0)\n"
   ]
  },
  {
   "cell_type": "code",
   "execution_count": 11,
   "metadata": {},
   "outputs": [
    {
     "name": "stdout",
     "output_type": "stream",
     "text": [
      "CVE_DOC              5\n",
      "CVE_CLPV             0\n",
      "STATUS               9\n",
      "CVE_VEND            48\n",
      "FECHAELAB            2\n",
      "FECHA_DOC            1\n",
      "FECHA_ENT            2\n",
      "FECHA_VEN            0\n",
      "FECHA_CANCELA    10537\n",
      "CAN_TOT              0\n",
      "DES_TOT              0\n",
      "DES_FIN              0\n",
      "dtype: int64\n"
     ]
    }
   ],
   "source": [
    "# Verificar la eliminación de valores nulos\n",
    "valores_nulos = data.isnull().sum()\n",
    "print(valores_nulos)\n"
   ]
  },
  {
   "cell_type": "code",
   "execution_count": 12,
   "metadata": {},
   "outputs": [],
   "source": [
    "# Cuarto método de sustitución de valores nulos\n",
    "# Sustituir valores nulos por un string en concreto\n",
    "\n",
    "# Sustituir valores nulos en 'STATUS' con el string 'Desconocido'\n",
    "data['STATUS'] = data['STATUS'].fillna('Desconocido')\n",
    "\n",
    "# Sustituir valores nulos en 'FECHA_CANCELA' con un string específico\n",
    "data['FECHA_CANCELA'] = data['FECHA_CANCELA'].fillna('2030-06-19 00:00:00')"
   ]
  },
  {
   "cell_type": "code",
   "execution_count": 13,
   "metadata": {},
   "outputs": [
    {
     "name": "stdout",
     "output_type": "stream",
     "text": [
      "CVE_DOC           5\n",
      "CVE_CLPV          0\n",
      "STATUS            0\n",
      "CVE_VEND         48\n",
      "FECHAELAB         2\n",
      "FECHA_DOC         1\n",
      "FECHA_ENT         2\n",
      "FECHA_VEN         0\n",
      "FECHA_CANCELA     0\n",
      "CAN_TOT           0\n",
      "DES_TOT           0\n",
      "DES_FIN           0\n",
      "dtype: int64\n"
     ]
    }
   ],
   "source": [
    "# Verificar la eliminación de valores nulos\n",
    "valores_nulos = data.isnull().sum()\n",
    "print(valores_nulos)"
   ]
  },
  {
   "cell_type": "code",
   "execution_count": 14,
   "metadata": {},
   "outputs": [
    {
     "name": "stderr",
     "output_type": "stream",
     "text": [
      "C:\\Users\\Usuario\\AppData\\Local\\Temp\\ipykernel_7892\\3701788705.py:5: FutureWarning: Series.fillna with 'method' is deprecated and will raise in a future version. Use obj.ffill() or obj.bfill() instead.\n",
      "  data['STATUS'] = data['STATUS'].fillna(method='ffill')\n",
      "C:\\Users\\Usuario\\AppData\\Local\\Temp\\ipykernel_7892\\3701788705.py:6: FutureWarning: Series.fillna with 'method' is deprecated and will raise in a future version. Use obj.ffill() or obj.bfill() instead.\n",
      "  data['FECHAELAB'] = data['FECHAELAB'].fillna(method='ffill')\n",
      "C:\\Users\\Usuario\\AppData\\Local\\Temp\\ipykernel_7892\\3701788705.py:7: FutureWarning: Series.fillna with 'method' is deprecated and will raise in a future version. Use obj.ffill() or obj.bfill() instead.\n",
      "  data['FECHA_DOC'] = data['FECHA_DOC'].fillna(method='ffill')\n"
     ]
    }
   ],
   "source": [
    "# Quinto método de sustitución de valores nulos\n",
    "# Sustituir valores nulos por valores no nulos hacia adelante (forward fill - ffill)\n",
    "\n",
    "# Aplicar forward fill en las columnas especificadas\n",
    "data['STATUS'] = data['STATUS'].fillna(method='ffill')\n",
    "data['FECHAELAB'] = data['FECHAELAB'].fillna(method='ffill')\n",
    "data['FECHA_DOC'] = data['FECHA_DOC'].fillna(method='ffill')\n"
   ]
  },
  {
   "cell_type": "code",
   "execution_count": 15,
   "metadata": {},
   "outputs": [
    {
     "name": "stdout",
     "output_type": "stream",
     "text": [
      "CVE_DOC           5\n",
      "CVE_CLPV          0\n",
      "STATUS            0\n",
      "CVE_VEND         48\n",
      "FECHAELAB         0\n",
      "FECHA_DOC         0\n",
      "FECHA_ENT         2\n",
      "FECHA_VEN         0\n",
      "FECHA_CANCELA     0\n",
      "CAN_TOT           0\n",
      "DES_TOT           0\n",
      "DES_FIN           0\n",
      "dtype: int64\n"
     ]
    }
   ],
   "source": [
    "# Verificar la eliminación de valores nulos\n",
    "valores_nulos = data.isnull().sum()\n",
    "print(valores_nulos)"
   ]
  },
  {
   "cell_type": "code",
   "execution_count": 16,
   "metadata": {},
   "outputs": [
    {
     "name": "stderr",
     "output_type": "stream",
     "text": [
      "C:\\Users\\Usuario\\AppData\\Local\\Temp\\ipykernel_7892\\3004151303.py:5: FutureWarning: Series.fillna with 'method' is deprecated and will raise in a future version. Use obj.ffill() or obj.bfill() instead.\n",
      "  data['STATUS'] = data['STATUS'].fillna(method='bfill')\n",
      "C:\\Users\\Usuario\\AppData\\Local\\Temp\\ipykernel_7892\\3004151303.py:6: FutureWarning: Series.fillna with 'method' is deprecated and will raise in a future version. Use obj.ffill() or obj.bfill() instead.\n",
      "  data['FECHAELAB'] = data['FECHAELAB'].fillna(method='bfill')\n",
      "C:\\Users\\Usuario\\AppData\\Local\\Temp\\ipykernel_7892\\3004151303.py:7: FutureWarning: Series.fillna with 'method' is deprecated and will raise in a future version. Use obj.ffill() or obj.bfill() instead.\n",
      "  data['FECHA_DOC'] = data['FECHA_DOC'].fillna(method='bfill')\n"
     ]
    }
   ],
   "source": [
    "# Sexto método de sustitución de valores nulos\n",
    "# Sustituir valores nulos por valores no nulos hacia atrás (backward fill - bfill)\n",
    "\n",
    "# Aplicar backward fill en las columnas especificadas\n",
    "data['STATUS'] = data['STATUS'].fillna(method='bfill')\n",
    "data['FECHAELAB'] = data['FECHAELAB'].fillna(method='bfill')\n",
    "data['FECHA_DOC'] = data['FECHA_DOC'].fillna(method='bfill')"
   ]
  },
  {
   "cell_type": "code",
   "execution_count": 17,
   "metadata": {},
   "outputs": [
    {
     "name": "stdout",
     "output_type": "stream",
     "text": [
      "CVE_DOC           5\n",
      "CVE_CLPV          0\n",
      "STATUS            0\n",
      "CVE_VEND         48\n",
      "FECHAELAB         0\n",
      "FECHA_DOC         0\n",
      "FECHA_ENT         2\n",
      "FECHA_VEN         0\n",
      "FECHA_CANCELA     0\n",
      "CAN_TOT           0\n",
      "DES_TOT           0\n",
      "DES_FIN           0\n",
      "dtype: int64\n"
     ]
    }
   ],
   "source": [
    "# Verificar la eliminación de valores nulos\n",
    "valores_nulos = data.isnull().sum()\n",
    "print(valores_nulos)"
   ]
  },
  {
   "cell_type": "code",
   "execution_count": 18,
   "metadata": {},
   "outputs": [
    {
     "name": "stderr",
     "output_type": "stream",
     "text": [
      "C:\\Users\\Usuario\\AppData\\Local\\Temp\\ipykernel_7892\\1559838655.py:5: FutureWarning: Series.fillna with 'method' is deprecated and will raise in a future version. Use obj.ffill() or obj.bfill() instead.\n",
      "  data['CVE_DOC'] = data['CVE_DOC'].fillna(method='bfill')\n",
      "C:\\Users\\Usuario\\AppData\\Local\\Temp\\ipykernel_7892\\1559838655.py:6: FutureWarning: Series.fillna with 'method' is deprecated and will raise in a future version. Use obj.ffill() or obj.bfill() instead.\n",
      "  data['CVE_CLPV'] = data['CVE_CLPV'].fillna(method='bfill')\n",
      "C:\\Users\\Usuario\\AppData\\Local\\Temp\\ipykernel_7892\\1559838655.py:7: FutureWarning: Series.fillna with 'method' is deprecated and will raise in a future version. Use obj.ffill() or obj.bfill() instead.\n",
      "  data['STATUS'] = data['STATUS'].fillna(method='bfill')\n"
     ]
    }
   ],
   "source": [
    "# Séptimo método de sustitución de valores nulos\n",
    "# Sustituir valores nulos por valores no nulos hacia atrás (backward fill - bfill)\n",
    "\n",
    "# Aplicar backward fill en las columnas especificadas\n",
    "data['CVE_DOC'] = data['CVE_DOC'].fillna(method='bfill')\n",
    "data['CVE_CLPV'] = data['CVE_CLPV'].fillna(method='bfill')\n",
    "data['STATUS'] = data['STATUS'].fillna(method='bfill')"
   ]
  },
  {
   "cell_type": "code",
   "execution_count": 19,
   "metadata": {},
   "outputs": [
    {
     "name": "stdout",
     "output_type": "stream",
     "text": [
      "CVE_DOC     0\n",
      "CVE_CLPV    0\n",
      "STATUS      0\n",
      "dtype: int64\n"
     ]
    }
   ],
   "source": [
    "# Verificar la eliminación de valores nulos\n",
    "valores_nulos = data[['CVE_DOC', 'CVE_CLPV', 'STATUS']].isnull().sum()\n",
    "print(valores_nulos)\n"
   ]
  },
  {
   "cell_type": "code",
   "execution_count": 20,
   "metadata": {},
   "outputs": [
    {
     "name": "stderr",
     "output_type": "stream",
     "text": [
      "C:\\Users\\Usuario\\AppData\\Local\\Temp\\ipykernel_7892\\4117367631.py:5: FutureWarning: Series.fillna with 'method' is deprecated and will raise in a future version. Use obj.ffill() or obj.bfill() instead.\n",
      "  data['FECHA_VEN'] = data['FECHA_VEN'].fillna(method='ffill')\n",
      "C:\\Users\\Usuario\\AppData\\Local\\Temp\\ipykernel_7892\\4117367631.py:6: FutureWarning: Series.fillna with 'method' is deprecated and will raise in a future version. Use obj.ffill() or obj.bfill() instead.\n",
      "  data['FECHA_CANCELA'] = data['FECHA_CANCELA'].fillna(method='ffill')\n",
      "C:\\Users\\Usuario\\AppData\\Local\\Temp\\ipykernel_7892\\4117367631.py:7: FutureWarning: Series.fillna with 'method' is deprecated and will raise in a future version. Use obj.ffill() or obj.bfill() instead.\n",
      "  data['DES_TOT'] = data['DES_TOT'].fillna(method='ffill')\n"
     ]
    }
   ],
   "source": [
    "# Octavo método de sustitución de valores nulos\n",
    "# Sustituir valores nulos por valores no nulos hacia adelante (forward fill - ffill)\n",
    "\n",
    "# Aplicar forward fill en las columnas especificadas\n",
    "data['FECHA_VEN'] = data['FECHA_VEN'].fillna(method='ffill')\n",
    "data['FECHA_CANCELA'] = data['FECHA_CANCELA'].fillna(method='ffill')\n",
    "data['DES_TOT'] = data['DES_TOT'].fillna(method='ffill')"
   ]
  },
  {
   "cell_type": "code",
   "execution_count": 21,
   "metadata": {},
   "outputs": [
    {
     "name": "stdout",
     "output_type": "stream",
     "text": [
      "FECHA_VEN        0\n",
      "FECHA_CANCELA    0\n",
      "DES_TOT          0\n",
      "dtype: int64\n"
     ]
    }
   ],
   "source": [
    "# Verificar la eliminación de valores nulos\n",
    "valores_nulos = data[['FECHA_VEN', 'FECHA_CANCELA', 'DES_TOT']].isnull().sum()\n",
    "print(valores_nulos)"
   ]
  },
  {
   "cell_type": "code",
   "execution_count": 22,
   "metadata": {},
   "outputs": [
    {
     "name": "stdout",
     "output_type": "stream",
     "text": [
      "Total de valores nulos en el DataFrame: 50\n"
     ]
    }
   ],
   "source": [
    "# Corroborar valores nulos en todo el DataFrame\n",
    "valores_nulos = data.isnull().sum().sum()\n",
    "print(f\"Total de valores nulos en el DataFrame: {valores_nulos}\")"
   ]
  },
  {
   "cell_type": "markdown",
   "metadata": {},
   "source": [
    "***Método de Eliminación de valores nulos***"
   ]
  },
  {
   "cell_type": "code",
   "execution_count": 23,
   "metadata": {},
   "outputs": [
    {
     "name": "stdout",
     "output_type": "stream",
     "text": [
      "Valores nulos por columna:\n",
      "CVE_DOC           0\n",
      "CVE_CLPV          0\n",
      "STATUS            0\n",
      "CVE_VEND         48\n",
      "FECHAELAB         0\n",
      "FECHA_DOC         0\n",
      "FECHA_ENT         2\n",
      "FECHA_VEN         0\n",
      "FECHA_CANCELA     0\n",
      "CAN_TOT           0\n",
      "DES_TOT           0\n",
      "DES_FIN           0\n",
      "dtype: int64\n"
     ]
    }
   ],
   "source": [
    "# Identificar valores nulos por columna\n",
    "valores_nulos = data.isnull().sum()\n",
    "print(\"Valores nulos por columna:\")\n",
    "print(valores_nulos)"
   ]
  },
  {
   "cell_type": "code",
   "execution_count": 24,
   "metadata": {},
   "outputs": [],
   "source": [
    "#Realizamos una copia del dataframe\n",
    "data_original = data.copy()"
   ]
  },
  {
   "cell_type": "code",
   "execution_count": 25,
   "metadata": {},
   "outputs": [
    {
     "name": "stdout",
     "output_type": "stream",
     "text": [
      "Valores nulos por columna en el DataFrame original:\n",
      "CVE_DOC           0\n",
      "CVE_CLPV          0\n",
      "STATUS            0\n",
      "CVE_VEND         48\n",
      "FECHAELAB         0\n",
      "FECHA_DOC         0\n",
      "FECHA_ENT         2\n",
      "FECHA_VEN         0\n",
      "FECHA_CANCELA     0\n",
      "CAN_TOT           0\n",
      "DES_TOT           0\n",
      "DES_FIN           0\n",
      "dtype: int64\n"
     ]
    }
   ],
   "source": [
    "# Identificar valores nulos por columna\n",
    "valores_nulos = data.isnull().sum()\n",
    "print(\"Valores nulos por columna en el DataFrame original:\")\n",
    "print(valores_nulos)\n",
    "\n"
   ]
  },
  {
   "cell_type": "code",
   "execution_count": 26,
   "metadata": {},
   "outputs": [
    {
     "name": "stdout",
     "output_type": "stream",
     "text": [
      "\n",
      "DataFrame original copiado:\n",
      "  CVE_DOC    CVE_CLPV STATUS  CVE_VEND           FECHAELAB  FECHA_DOC  \\\n",
      "0  F29414        2465      C       1.0 2019-09-03 08:58:42 2019-09-03   \n",
      "1  F29415        3926      C       1.0 2019-09-03 09:55:14 2019-09-03   \n",
      "2  F29416        3926      C       1.0 2019-09-03 13:25:33 2019-09-03   \n",
      "3  F29417        3926      C       1.0 2019-09-03 13:33:23 2019-09-03   \n",
      "4  F29418        6813      C       2.0 2019-09-03 14:23:45 2019-09-03   \n",
      "\n",
      "             FECHA_ENT  FECHA_VEN FECHA_CANCELA  CAN_TOT  DES_TOT  DES_FIN  \n",
      "0  2019-09-03 00:00:00 2019-09-18    2019-09-04  3980.00      0.0      0.0  \n",
      "1  2019-09-03 00:00:00 2019-10-03    2019-09-03  1550.00      0.0      0.0  \n",
      "2  2019-09-03 00:00:00 2019-10-03    2019-09-03  1550.00      0.0      0.0  \n",
      "3  2019-09-03 00:00:00 2019-10-03    2019-09-17  1550.00      0.0      0.0  \n",
      "4  2019-09-03 00:00:00 2019-09-03    2019-09-10  2435.44      0.0      0.0  \n"
     ]
    }
   ],
   "source": [
    "# Realizamos una copia del DataFrame\n",
    "data_copy = data.copy()\n",
    "print(\"\\nDataFrame original copiado:\")\n",
    "print(data_copy.head())\n",
    "\n"
   ]
  },
  {
   "cell_type": "code",
   "execution_count": 27,
   "metadata": {},
   "outputs": [
    {
     "name": "stdout",
     "output_type": "stream",
     "text": [
      "\n",
      "DataFrame después de eliminar filas con valores nulos:\n",
      "  CVE_DOC    CVE_CLPV STATUS  CVE_VEND           FECHAELAB  FECHA_DOC  \\\n",
      "0  F29414        2465      C       1.0 2019-09-03 08:58:42 2019-09-03   \n",
      "1  F29415        3926      C       1.0 2019-09-03 09:55:14 2019-09-03   \n",
      "2  F29416        3926      C       1.0 2019-09-03 13:25:33 2019-09-03   \n",
      "3  F29417        3926      C       1.0 2019-09-03 13:33:23 2019-09-03   \n",
      "4  F29418        6813      C       2.0 2019-09-03 14:23:45 2019-09-03   \n",
      "\n",
      "             FECHA_ENT  FECHA_VEN FECHA_CANCELA  CAN_TOT  DES_TOT  DES_FIN  \n",
      "0  2019-09-03 00:00:00 2019-09-18    2019-09-04  3980.00      0.0      0.0  \n",
      "1  2019-09-03 00:00:00 2019-10-03    2019-09-03  1550.00      0.0      0.0  \n",
      "2  2019-09-03 00:00:00 2019-10-03    2019-09-03  1550.00      0.0      0.0  \n",
      "3  2019-09-03 00:00:00 2019-10-03    2019-09-17  1550.00      0.0      0.0  \n",
      "4  2019-09-03 00:00:00 2019-09-03    2019-09-10  2435.44      0.0      0.0  \n"
     ]
    }
   ],
   "source": [
    "# Eliminamos filas con nulos\n",
    "data_cleaned = data_copy.dropna()\n",
    "print(\"\\nDataFrame después de eliminar filas con valores nulos:\")\n",
    "print(data_cleaned.head())\n"
   ]
  },
  {
   "cell_type": "code",
   "execution_count": 28,
   "metadata": {},
   "outputs": [
    {
     "name": "stdout",
     "output_type": "stream",
     "text": [
      "\n",
      "Valores nulos por columna en el DataFrame limpio:\n",
      "CVE_DOC          0\n",
      "CVE_CLPV         0\n",
      "STATUS           0\n",
      "CVE_VEND         0\n",
      "FECHAELAB        0\n",
      "FECHA_DOC        0\n",
      "FECHA_ENT        0\n",
      "FECHA_VEN        0\n",
      "FECHA_CANCELA    0\n",
      "CAN_TOT          0\n",
      "DES_TOT          0\n",
      "DES_FIN          0\n",
      "dtype: int64\n"
     ]
    }
   ],
   "source": [
    "# Identificar valores nulos por columna en el DataFrame limpio\n",
    "valores_nulos_limpio = data_cleaned.isnull().sum()\n",
    "print(\"\\nValores nulos por columna en el DataFrame limpio:\")\n",
    "print(valores_nulos_limpio)"
   ]
  },
  {
   "cell_type": "code",
   "execution_count": 29,
   "metadata": {},
   "outputs": [
    {
     "name": "stdout",
     "output_type": "stream",
     "text": [
      "<class 'pandas.core.frame.DataFrame'>\n",
      "RangeIndex: 10895 entries, 0 to 10894\n",
      "Data columns (total 12 columns):\n",
      " #   Column         Non-Null Count  Dtype         \n",
      "---  ------         --------------  -----         \n",
      " 0   CVE_DOC        10895 non-null  object        \n",
      " 1   CVE_CLPV       10895 non-null  object        \n",
      " 2   STATUS         10895 non-null  object        \n",
      " 3   CVE_VEND       10847 non-null  float64       \n",
      " 4   FECHAELAB      10895 non-null  datetime64[ns]\n",
      " 5   FECHA_DOC      10895 non-null  datetime64[ns]\n",
      " 6   FECHA_ENT      10893 non-null  object        \n",
      " 7   FECHA_VEN      10895 non-null  datetime64[ns]\n",
      " 8   FECHA_CANCELA  10895 non-null  datetime64[ns]\n",
      " 9   CAN_TOT        10895 non-null  float64       \n",
      " 10  DES_TOT        10895 non-null  float64       \n",
      " 11  DES_FIN        10895 non-null  float64       \n",
      "dtypes: datetime64[ns](4), float64(4), object(4)\n",
      "memory usage: 1021.5+ KB\n"
     ]
    }
   ],
   "source": [
    "# Comparar la información de ambos DataFrames\n",
    "data.info()"
   ]
  },
  {
   "cell_type": "code",
   "execution_count": 30,
   "metadata": {},
   "outputs": [
    {
     "name": "stdout",
     "output_type": "stream",
     "text": [
      "<class 'pandas.core.frame.DataFrame'>\n",
      "RangeIndex: 10895 entries, 0 to 10894\n",
      "Data columns (total 12 columns):\n",
      " #   Column         Non-Null Count  Dtype         \n",
      "---  ------         --------------  -----         \n",
      " 0   CVE_DOC        10895 non-null  object        \n",
      " 1   CVE_CLPV       10895 non-null  object        \n",
      " 2   STATUS         10895 non-null  object        \n",
      " 3   CVE_VEND       10847 non-null  float64       \n",
      " 4   FECHAELAB      10895 non-null  datetime64[ns]\n",
      " 5   FECHA_DOC      10895 non-null  datetime64[ns]\n",
      " 6   FECHA_ENT      10893 non-null  object        \n",
      " 7   FECHA_VEN      10895 non-null  datetime64[ns]\n",
      " 8   FECHA_CANCELA  10895 non-null  datetime64[ns]\n",
      " 9   CAN_TOT        10895 non-null  float64       \n",
      " 10  DES_TOT        10895 non-null  float64       \n",
      " 11  DES_FIN        10895 non-null  float64       \n",
      "dtypes: datetime64[ns](4), float64(4), object(4)\n",
      "memory usage: 1021.5+ KB\n"
     ]
    }
   ],
   "source": [
    "data.info()"
   ]
  },
  {
   "cell_type": "markdown",
   "metadata": {},
   "source": [
    "***Convertir DataSet sin valores nulos a CSV***"
   ]
  },
  {
   "cell_type": "code",
   "execution_count": 31,
   "metadata": {},
   "outputs": [],
   "source": [
    "#Convertir DataFrame a CSV\n",
    "data.to_csv(\"Datos de Facturación.csv\")"
   ]
  },
  {
   "cell_type": "code",
   "execution_count": 34,
   "metadata": {},
   "outputs": [
    {
     "ename": "NameError",
     "evalue": "name 'files' is not defined",
     "output_type": "error",
     "traceback": [
      "\u001b[1;31m---------------------------------------------------------------------------\u001b[0m",
      "\u001b[1;31mNameError\u001b[0m                                 Traceback (most recent call last)",
      "Cell \u001b[1;32mIn[34], line 1\u001b[0m\n\u001b[1;32m----> 1\u001b[0m \u001b[43mfiles\u001b[49m\u001b[38;5;241m.\u001b[39mdownload(\u001b[38;5;124m\"\u001b[39m\u001b[38;5;124mDatos de Facturación.csv\u001b[39m\u001b[38;5;124m\"\u001b[39m)\n",
      "\u001b[1;31mNameError\u001b[0m: name 'files' is not defined"
     ]
    }
   ],
   "source": [
    "files.download(\"Datos de Facturación.csv\")"
   ]
  }
 ],
 "metadata": {
  "kernelspec": {
   "display_name": "Python 3",
   "language": "python",
   "name": "python3"
  },
  "language_info": {
   "codemirror_mode": {
    "name": "ipython",
    "version": 3
   },
   "file_extension": ".py",
   "mimetype": "text/x-python",
   "name": "python",
   "nbconvert_exporter": "python",
   "pygments_lexer": "ipython3",
   "version": "3.12.4"
  }
 },
 "nbformat": 4,
 "nbformat_minor": 2
}
